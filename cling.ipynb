{
 "cells": [
  {
   "cell_type": "markdown",
   "metadata": {},
   "source": [
    "# Jupyter kernel for the C++ programming language\n",
    "\n",
    "- xeus-cling is a Jupyter kernel for C++ based on the C++ interpreter cling and the native implementation of the Jupyter protocol xeus."
   ]
  },
  {
   "cell_type": "markdown",
   "metadata": {},
   "source": [
    "## Eigen\n",
    "\n",
    "Let's run Eigen's sample. It is taken from:\n",
    "https://eigen.tuxfamily.org/dox/GettingStarted.html\n",
    "\n",
    "```cpp\n",
    "#include <iostream>\n",
    "#include <Eigen/Dense>\n",
    "\n",
    "using Eigen::MatrixXd;\n",
    "\n",
    "int main()\n",
    "{\n",
    "  MatrixXd m(2,2);\n",
    "  m(0,0) = 3;\n",
    "  m(1,0) = 2.5;\n",
    "  m(0,1) = -1;\n",
    "  m(1,1) = m(1,0) + m(0,1);\n",
    "  std::cout << m << std::endl;\n",
    "}\n",
    "```\n"
   ]
  },
  {
   "cell_type": "markdown",
   "metadata": {},
   "source": [
    "### Cling"
   ]
  },
  {
   "cell_type": "code",
   "execution_count": null,
   "metadata": {},
   "outputs": [],
   "source": [
    "#pragma cling add_include_path(\"/usr/include/eigen3\")\n",
    "#include <iostream>\n",
    "#include <Eigen/Dense>\n",
    "using Eigen::MatrixXd;\n",
    "\n",
    "MatrixXd m(2,2);\n",
    "m(0,0) = 3;\n",
    "m(1,0) = 2.5;\n",
    "m(0,1) = -1;\n",
    "m(1,1) = m(1,0) + m(0,1);\n",
    "std::cout << m << std::endl;"
   ]
  },
  {
   "cell_type": "markdown",
   "metadata": {},
   "source": [
    "# OpenCV"
   ]
  },
  {
   "cell_type": "code",
   "execution_count": null,
   "metadata": {},
   "outputs": [],
   "source": [
    "#pragma once\n",
    "#pragma cling add_library_path(\"/usr/lib/x86_64-linux-gnu/\")\n",
    "#pragma cling add_include_path(\"/usr/include/opencv4/\")\n",
    "\n",
    "#pragma cling load(\"libopencv_core\")\n",
    "#pragma cling load(\"libopencv_imgcodecs\")\n",
    "#pragma cling load(\"libopencv_imgproc\")\n",
    "#pragma cling load(\"libopencv_highgui\")\n",
    "\n",
    "#include <opencv2/core/core.hpp>\n",
    "#include <opencv2/highgui/highgui.hpp>\n",
    "#include <opencv2/imgproc/imgproc.hpp>"
   ]
  },
  {
   "cell_type": "markdown",
   "metadata": {},
   "source": [
    "Make sure you've installed OpenCV 4.2.0"
   ]
  },
  {
   "cell_type": "code",
   "execution_count": null,
   "metadata": {},
   "outputs": [],
   "source": [
    "std::cout << \"OpenCV version\" << CV_VERSION << std::endl;"
   ]
  },
  {
   "cell_type": "markdown",
   "metadata": {},
   "source": [
    "## Visualize images\n",
    "\n",
    "- Let's visualize `lena512color.tiff` You can get from \n",
    "https://www.ece.rice.edu/~wakin/images/lena512color.tiff"
   ]
  },
  {
   "cell_type": "code",
   "execution_count": null,
   "metadata": {},
   "outputs": [],
   "source": [
    "!wget https://www.ece.rice.edu/~wakin/images/lena512color.tiff"
   ]
  },
  {
   "cell_type": "markdown",
   "metadata": {},
   "source": [
    "- Let's confirm you've installed `lena512color.tiff`"
   ]
  },
  {
   "cell_type": "code",
   "execution_count": null,
   "metadata": {},
   "outputs": [],
   "source": [
    "!ls "
   ]
  },
  {
   "cell_type": "markdown",
   "metadata": {},
   "source": [
    "## Define helper function\n",
    "\n",
    "\n",
    "This code is taken from\n",
    "https://code-ballads.net/generated-notebooks/cpp/repl_cling/notebooks/3_Advices_And_Gotchas.html\n"
   ]
  },
  {
   "cell_type": "code",
   "execution_count": null,
   "metadata": {},
   "outputs": [],
   "source": [
    "\n",
    "\n",
    "\n",
    "#include \"xtl/xbase64.hpp\"\n",
    "#include \"nlohmann/json.hpp\"\n",
    "\n",
    "namespace im\n",
    "{\n",
    "    struct matshow\n",
    "    {\n",
    "        matshow(const cv::Mat& m) : _mat(m) {}\n",
    "        cv::Mat _mat;\n",
    "    };;\n",
    "    matshow show(const cv::Mat& m) { matshow r(m); return r; }\n",
    "\n",
    "    nlohmann::json mime_bundle_repr(const matshow& m)\n",
    "    {\n",
    "        std::vector<uchar> buf;\n",
    "        bool success =  cv::imencode(\".png\", m._mat, buf);\n",
    "        if (success) {\n",
    "            auto bundle = nlohmann::json::object();\n",
    "            std::string buf_as_str(buf.begin(), buf.end());\n",
    "            bundle[\"image/jpeg\"] = xtl::base64encode(buf_as_str);\n",
    "            return bundle;\n",
    "        }\n",
    "        else\n",
    "            return {};\n",
    "    }\n",
    "}"
   ]
  },
  {
   "cell_type": "code",
   "execution_count": null,
   "metadata": {},
   "outputs": [],
   "source": [
    "[] { // This is the start of the Immediately Invoked Lambda \n",
    "     // (the \"()\" can be avoided, since it does not have params)\n",
    "  cv::Mat m = cv::imread(\"lena512color.tiff\"), blur;\n",
    "  cv::resize(m, m, cv::Size(256, 256));\n",
    "  return im::show(m);\n",
    "}()\n",
    "\n",
    "// Done!"
   ]
  }
 ],
 "metadata": {
  "kernelspec": {
   "display_name": "C++14",
   "language": "C++14",
   "name": "xcpp14"
  },
  "language_info": {
   "codemirror_mode": "text/x-c++src",
   "file_extension": ".cpp",
   "mimetype": "text/x-c++src",
   "name": "c++",
   "version": "14"
  }
 },
 "nbformat": 4,
 "nbformat_minor": 4
}
